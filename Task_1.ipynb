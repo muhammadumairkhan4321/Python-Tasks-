{
 "cells": [
  {
   "cell_type": "markdown",
   "id": "0849351e",
   "metadata": {},
   "source": [
    "## **1. Diffrence Between Integer And Float**"
   ]
  },
  {
   "cell_type": "markdown",
   "id": "51293308",
   "metadata": {},
   "source": [
    "## Integer"
   ]
  },
  {
   "cell_type": "markdown",
   "id": "97f66fe1",
   "metadata": {},
   "source": [
    "-  Integer is numbers without decimal piont"
   ]
  },
  {
   "cell_type": "code",
   "execution_count": 1,
   "id": "093a9239",
   "metadata": {},
   "outputs": [
    {
     "name": "stdout",
     "output_type": "stream",
     "text": [
      "5\n",
      "-10\n",
      "15\n"
     ]
    }
   ],
   "source": [
    "integer =5\n",
    "integer_positive = 15\n",
    "integer_nagetive =-10\n",
    "print(integer)\n",
    "print(integer_nagetive)\n",
    "print(integer_positive)\n"
   ]
  },
  {
   "cell_type": "markdown",
   "id": "9eb7c1cf",
   "metadata": {},
   "source": [
    "## Float"
   ]
  },
  {
   "cell_type": "markdown",
   "id": "9873b227",
   "metadata": {},
   "source": [
    "- Float is number with  decimal point\n"
   ]
  },
  {
   "cell_type": "code",
   "execution_count": 4,
   "id": "fefaf8a7",
   "metadata": {},
   "outputs": [
    {
     "name": "stdout",
     "output_type": "stream",
     "text": [
      "10.2\n",
      "12.6\n",
      "-15.0\n"
     ]
    }
   ],
   "source": [
    "Float = 10.2\n",
    "Float_positive =12.6\n",
    "Float_nagetive = -15.0\n",
    "print(Float)\n",
    "print(Float_positive)\n",
    "print(Float_nagetive)"
   ]
  },
  {
   "cell_type": "markdown",
   "id": "c894cbd5",
   "metadata": {},
   "source": [
    "## **2. Declare String**"
   ]
  },
  {
   "cell_type": "markdown",
   "id": "3ecf9c49",
   "metadata": {},
   "source": [
    "- A string  is a sequence of characters enclosed in single quotes (' ') or double quotes (\" \")."
   ]
  },
  {
   "cell_type": "code",
   "execution_count": 6,
   "id": "e6dd821e",
   "metadata": {},
   "outputs": [
    {
     "name": "stdout",
     "output_type": "stream",
     "text": [
      "Umair\n"
     ]
    }
   ],
   "source": [
    "Name = \"Umair\"\n",
    "print(Name)"
   ]
  },
  {
   "cell_type": "code",
   "execution_count": 4,
   "id": "7f2d06bf",
   "metadata": {},
   "outputs": [
    {
     "name": "stdout",
     "output_type": "stream",
     "text": [
      "I am student at  corvit mardan .\n"
     ]
    }
   ],
   "source": [
    "Str_1 =\"I am student at \"\n",
    "Str_2 = \"corvit mardan .\"\n",
    "Str_3 =Str_1+\" \" +Str_2\n",
    "print(Str_3)"
   ]
  },
  {
   "cell_type": "code",
   "execution_count": 8,
   "id": "4e6e2c06",
   "metadata": {},
   "outputs": [
    {
     "data": {
      "text/plain": [
       "'I AM STUDENT AT  CORVIT MARDAN .'"
      ]
     },
     "execution_count": 8,
     "metadata": {},
     "output_type": "execute_result"
    }
   ],
   "source": [
    "# Upper Case\n",
    "Str_3.upper()"
   ]
  },
  {
   "cell_type": "code",
   "execution_count": 9,
   "id": "7e4e1b8c",
   "metadata": {},
   "outputs": [
    {
     "data": {
      "text/plain": [
       "'i am student at  corvit mardan .'"
      ]
     },
     "execution_count": 9,
     "metadata": {},
     "output_type": "execute_result"
    }
   ],
   "source": [
    "# Lower Case\n",
    "Str_3.lower()"
   ]
  },
  {
   "cell_type": "code",
   "execution_count": 11,
   "id": "504e7e77",
   "metadata": {},
   "outputs": [
    {
     "data": {
      "text/plain": [
       "'I am student at  corvit mardan .'"
      ]
     },
     "execution_count": 11,
     "metadata": {},
     "output_type": "execute_result"
    }
   ],
   "source": [
    "# First Alphabet OF Sentance Is Capital\n",
    "Str_3.capitalize()"
   ]
  },
  {
   "cell_type": "code",
   "execution_count": 12,
   "id": "96ba5797",
   "metadata": {},
   "outputs": [
    {
     "data": {
      "text/plain": [
       "'I Am Student At  Corvit Mardan .'"
      ]
     },
     "execution_count": 12,
     "metadata": {},
     "output_type": "execute_result"
    }
   ],
   "source": [
    "# First Alphabet OF Word Is Capital\n",
    "Str_3.title()"
   ]
  },
  {
   "cell_type": "code",
   "execution_count": 17,
   "id": "9f205a6c",
   "metadata": {},
   "outputs": [
    {
     "data": {
      "text/plain": [
       "'I am student at  corvit Peshawar .'"
      ]
     },
     "execution_count": 17,
     "metadata": {},
     "output_type": "execute_result"
    }
   ],
   "source": [
    "Str_3.replace(\"mardan\",\"Peshawar\")"
   ]
  },
  {
   "cell_type": "code",
   "execution_count": 3,
   "id": "fc5059d3",
   "metadata": {},
   "outputs": [
    {
     "name": "stdout",
     "output_type": "stream",
     "text": [
      "Ha Ha Ha \n"
     ]
    }
   ],
   "source": [
    "Laugh =\"Ha \" \"\" *3\n",
    "print(Laugh)"
   ]
  },
  {
   "cell_type": "markdown",
   "id": "57a4b3e2",
   "metadata": {},
   "source": [
    "## **3. List**"
   ]
  },
  {
   "cell_type": "markdown",
   "id": "11299c7b",
   "metadata": {},
   "source": [
    "- List is a collection of data in squre brackets .\n",
    "- It is muteable ."
   ]
  },
  {
   "cell_type": "code",
   "execution_count": 19,
   "id": "ab7a73f6",
   "metadata": {},
   "outputs": [
    {
     "name": "stdout",
     "output_type": "stream",
     "text": [
      "[]\n"
     ]
    }
   ],
   "source": [
    "# Empty List\n",
    "\n",
    "List = [  ]\n",
    "print(List)"
   ]
  },
  {
   "cell_type": "code",
   "execution_count": 5,
   "id": "d8552cf5",
   "metadata": {},
   "outputs": [
    {
     "name": "stdout",
     "output_type": "stream",
     "text": [
      "['apple', 'banana', 'cherry', 'mango']\n"
     ]
    }
   ],
   "source": [
    "List1 =[\"apple\",\"banana\",\"cherry\",\"mango\"]\n",
    "print(List1)"
   ]
  },
  {
   "cell_type": "markdown",
   "id": "511d221f",
   "metadata": {},
   "source": [
    "## Accessing "
   ]
  },
  {
   "cell_type": "code",
   "execution_count": 7,
   "id": "d83a94e7",
   "metadata": {},
   "outputs": [
    {
     "name": "stdout",
     "output_type": "stream",
     "text": [
      "apple\n",
      "cherry\n",
      "banana\n",
      "mango\n"
     ]
    }
   ],
   "source": [
    "List1 =[\"apple\",\"banana\",\"cherry\",\"mango\"]\n",
    "print(List1[0])     # output first element\n",
    "print(List1[2])     # output third element\n",
    "print(List1[1])     # output second element\n",
    "print(List1[-1])    # output last element "
   ]
  },
  {
   "cell_type": "markdown",
   "id": "d27c1ba9",
   "metadata": {},
   "source": [
    "## Modifying List"
   ]
  },
  {
   "cell_type": "code",
   "execution_count": 10,
   "id": "f8ea0bd9",
   "metadata": {},
   "outputs": [
    {
     "name": "stdout",
     "output_type": "stream",
     "text": [
      "['apple', 'orange', 'cherry']\n"
     ]
    }
   ],
   "source": [
    "# Changing List\n",
    "Fruits =[\"apple\",\"banana\",\"cherry\"]\n",
    "Fruits[1] =\"orange\"     # output  banana change to orange \n",
    "print(Fruits)"
   ]
  },
  {
   "cell_type": "code",
   "execution_count": null,
   "id": "823b54c3",
   "metadata": {},
   "outputs": [
    {
     "name": "stdout",
     "output_type": "stream",
     "text": [
      "[1, 2, 3, 4]\n"
     ]
    }
   ],
   "source": [
    "# Adding  ELEMENT IN LIST\n",
    "numbers = [1,2,3]\n",
    "numbers.append(4)      \n",
    "print(numbers)\n"
   ]
  },
  {
   "cell_type": "code",
   "execution_count": 1,
   "id": "96388fef",
   "metadata": {},
   "outputs": [
    {
     "name": "stdout",
     "output_type": "stream",
     "text": [
      "[1, 25, 2, 3, 4]\n"
     ]
    }
   ],
   "source": [
    "# Adding element in your choice\n",
    "numbers =[1,2,3,4]\n",
    "numbers .insert(1,25)\n",
    "print(numbers)"
   ]
  },
  {
   "cell_type": "code",
   "execution_count": 2,
   "id": "f23a3aa3",
   "metadata": {},
   "outputs": [
    {
     "name": "stdout",
     "output_type": "stream",
     "text": [
      "[1, 2, 3, 4, 5]\n"
     ]
    }
   ],
   "source": [
    "# jioned List\n",
    "List_1 =[1,2,3]\n",
    "List_2 =[4,5]\n",
    "List_1.extend(List_2)\n",
    "print(List_1)"
   ]
  },
  {
   "cell_type": "markdown",
   "id": "894d4a27",
   "metadata": {},
   "source": [
    "## **4. Difference Between List And Tuple**"
   ]
  },
  {
   "cell_type": "markdown",
   "id": "a05cfebb",
   "metadata": {},
   "source": [
    "## **List**"
   ]
  },
  {
   "cell_type": "markdown",
   "id": "fb018818",
   "metadata": {},
   "source": [
    "- List is combination of data in squre brackets .\n",
    "- It is mutable ."
   ]
  },
  {
   "cell_type": "code",
   "execution_count": 3,
   "id": "f4dffe21",
   "metadata": {},
   "outputs": [
    {
     "name": "stdout",
     "output_type": "stream",
     "text": [
      "[1, 2.3, 'Apple', True]\n"
     ]
    }
   ],
   "source": [
    "List = [ 1, 2.3, \"Apple\", True]\n",
    "print(List)"
   ]
  },
  {
   "cell_type": "markdown",
   "id": "1bd08797",
   "metadata": {},
   "source": [
    "### Change in List\n"
   ]
  },
  {
   "cell_type": "code",
   "execution_count": 5,
   "id": "72907bf6",
   "metadata": {},
   "outputs": [
    {
     "name": "stdout",
     "output_type": "stream",
     "text": [
      "[1, 2.3, 'Apple', True, False]\n"
     ]
    }
   ],
   "source": [
    "List =[ 1, 2.3, \"Apple\", True]\n",
    "List.append(False)\n",
    "print(List)"
   ]
  },
  {
   "cell_type": "markdown",
   "id": "643a929f",
   "metadata": {},
   "source": [
    "## **Tuple**"
   ]
  },
  {
   "cell_type": "markdown",
   "id": "bad81b2b",
   "metadata": {},
   "source": [
    "- It is collection of data in Small brackets \"( )\" .\n",
    "- It is immutable ."
   ]
  },
  {
   "cell_type": "code",
   "execution_count": 6,
   "id": "e7f89246",
   "metadata": {},
   "outputs": [
    {
     "name": "stdout",
     "output_type": "stream",
     "text": [
      "(5, 60.81, 'Fawad ', False)\n"
     ]
    }
   ],
   "source": [
    "Tuple =(5, 60.81 , \"Fawad \", False)\n",
    "print(Tuple)"
   ]
  },
  {
   "cell_type": "code",
   "execution_count": 7,
   "id": "8b2949d0",
   "metadata": {},
   "outputs": [
    {
     "ename": "AttributeError",
     "evalue": "'tuple' object has no attribute 'append'",
     "output_type": "error",
     "traceback": [
      "\u001b[1;31m---------------------------------------------------------------------------\u001b[0m",
      "\u001b[1;31mAttributeError\u001b[0m                            Traceback (most recent call last)",
      "Cell \u001b[1;32mIn[7], line 1\u001b[0m\n\u001b[1;32m----> 1\u001b[0m Tuple\u001b[38;5;241m.\u001b[39mappend(\u001b[38;5;124m\"\u001b[39m\u001b[38;5;124mAli\u001b[39m\u001b[38;5;124m\"\u001b[39m)\n\u001b[0;32m      2\u001b[0m \u001b[38;5;28mprint\u001b[39m(Tuple)\n",
      "\u001b[1;31mAttributeError\u001b[0m: 'tuple' object has no attribute 'append'"
     ]
    }
   ],
   "source": [
    "Tuple.append(\"Ali\")\n",
    "print(Tuple)"
   ]
  },
  {
   "cell_type": "markdown",
   "id": "fdf63cbf",
   "metadata": {},
   "source": [
    "## **Dictionary**"
   ]
  },
  {
   "cell_type": "markdown",
   "id": "cf74ca17",
   "metadata": {},
   "source": [
    "- It is collection of all data type .\n",
    "- we use dictionary in dictionary ."
   ]
  },
  {
   "cell_type": "code",
   "execution_count": 9,
   "id": "00cccf26",
   "metadata": {},
   "outputs": [
    {
     "name": "stdout",
     "output_type": "stream",
     "text": [
      "{'Name': 'Ali', 'Age': 26, 'CGPA': 3.6, 'CIT Student': True}\n"
     ]
    }
   ],
   "source": [
    "Ali_Data ={\n",
    "    \"Name\"        :\"Ali\",\n",
    "    \"Age\"         : 26,\n",
    "    \"CGPA\"        :3.60,\n",
    "    \"CIT Student\" :True\n",
    "}\n",
    "print(Ali_Data)"
   ]
  },
  {
   "cell_type": "markdown",
   "id": "875cb872",
   "metadata": {},
   "source": [
    "## **Accessing Element*"
   ]
  },
  {
   "cell_type": "code",
   "execution_count": 10,
   "id": "a11d285b",
   "metadata": {},
   "outputs": [
    {
     "name": "stdout",
     "output_type": "stream",
     "text": [
      "Ali\n",
      "3.6\n"
     ]
    }
   ],
   "source": [
    "print(Ali_Data[\"Name\"])\n",
    "print(Ali_Data[\"CGPA\"])"
   ]
  },
  {
   "cell_type": "markdown",
   "id": "24ea9b7e",
   "metadata": {},
   "source": [
    "## **6. Type Casting**"
   ]
  },
  {
   "cell_type": "code",
   "execution_count": 4,
   "id": "34036d82",
   "metadata": {},
   "outputs": [
    {
     "name": "stdout",
     "output_type": "stream",
     "text": [
      "20\n",
      "<class 'int'>\n"
     ]
    }
   ],
   "source": [
    "# string change to integer\n",
    "Num_str =\"20\"\n",
    "Num_int =int(Num_str)\n",
    "print(Num_int)\n",
    "print(type(Num_int))"
   ]
  },
  {
   "cell_type": "code",
   "execution_count": 5,
   "id": "ba6cef4e",
   "metadata": {},
   "outputs": [
    {
     "name": "stdout",
     "output_type": "stream",
     "text": [
      "12\n",
      "<class 'int'>\n"
     ]
    }
   ],
   "source": [
    "# Float change to integer\n",
    "Num_Float =12.9\n",
    "Num_int =int(Num_Float)\n",
    "print(Num_int)\n",
    "print(type(Num_int))"
   ]
  },
  {
   "cell_type": "markdown",
   "id": "442e65c3",
   "metadata": {},
   "source": [
    "## **7. Convert a string to an integer and perform arithmetic operation .**"
   ]
  },
  {
   "cell_type": "code",
   "execution_count": 8,
   "id": "720f327e",
   "metadata": {},
   "outputs": [
    {
     "name": "stdout",
     "output_type": "stream",
     "text": [
      "15\n",
      "5\n",
      "50\n",
      "2.0\n"
     ]
    }
   ],
   "source": [
    "num1_str = \"10\"  \n",
    "num2_str = \"5\"  \n",
    "num1_int =int(num1_str)\n",
    "num2_int =int(num2_str)\n",
    "sum_result = num1_int +num2_int\n",
    "subtract_result = num1_int -num2_int\n",
    "multiply_result = num1_int * num2_int\n",
    "divide_result = num1_int/num2_int\n",
    "print(sum_result)\n",
    "print(subtract_result)\n",
    "print(multiply_result)\n",
    "print(divide_result)\n",
    "\n"
   ]
  },
  {
   "cell_type": "markdown",
   "id": "61216232",
   "metadata": {},
   "source": [
    "## **8. Concatinate string**\n",
    "\n"
   ]
  },
  {
   "cell_type": "code",
   "execution_count": 9,
   "id": "5e49dd74",
   "metadata": {},
   "outputs": [
    {
     "name": "stdout",
     "output_type": "stream",
     "text": [
      "Hello World\n"
     ]
    }
   ],
   "source": [
    "str1 = \"Hello\"\n",
    "str2 = \"World\"\n",
    "result = str1 + \" \" + str2\n",
    "print(result)"
   ]
  },
  {
   "cell_type": "code",
   "execution_count": 10,
   "id": "e8af44d4",
   "metadata": {},
   "outputs": [
    {
     "name": "stdout",
     "output_type": "stream",
     "text": [
      "Hello, Welcome to Python Programming!\n"
     ]
    }
   ],
   "source": [
    "greeting = \"Hello\"\n",
    "language = \"Python\"\n",
    "full_message = greeting + \", Welcome to \" + language + \" Programming!\"\n",
    "\n",
    "print(full_message)"
   ]
  },
  {
   "cell_type": "markdown",
   "id": "4ed12aa2",
   "metadata": {},
   "source": [
    "## **9.  Indexing in python list and stirng**"
   ]
  },
  {
   "cell_type": "markdown",
   "id": "83d50bdc",
   "metadata": {},
   "source": [
    "## *List*"
   ]
  },
  {
   "cell_type": "code",
   "execution_count": 11,
   "id": "1002afd7",
   "metadata": {},
   "outputs": [
    {
     "name": "stdout",
     "output_type": "stream",
     "text": [
      "Apple\n",
      "Mango\n",
      "Orange\n",
      "Banana\n"
     ]
    }
   ],
   "source": [
    "fruits = [\"Apple\", \"Banana\", \"Mango\", \"Orange\"]\n",
    "print(fruits[0])   \n",
    "print(fruits[2])\n",
    "print(fruits[-1])  \n",
    "print(fruits[-3])"
   ]
  },
  {
   "cell_type": "markdown",
   "id": "b437b643",
   "metadata": {},
   "source": [
    "## *String*"
   ]
  },
  {
   "cell_type": "code",
   "execution_count": 12,
   "id": "734f7bbe",
   "metadata": {},
   "outputs": [
    {
     "name": "stdout",
     "output_type": "stream",
     "text": [
      "P\n",
      "h\n",
      "n\n",
      "t\n"
     ]
    }
   ],
   "source": [
    "name = \"Python\"\n",
    "print(name[0])   \n",
    "print(name[3])\n",
    "print(name[-1])  \n",
    "print(name[-4])"
   ]
  },
  {
   "cell_type": "markdown",
   "id": "9e6f3c1c",
   "metadata": {},
   "source": [
    "## **10.  Student Ages Dictionary**"
   ]
  },
  {
   "cell_type": "code",
   "execution_count": 13,
   "id": "786930a3",
   "metadata": {},
   "outputs": [
    {
     "name": "stdout",
     "output_type": "stream",
     "text": [
      "Sana Years\n"
     ]
    }
   ],
   "source": [
    "student_ages = {\n",
    "    \"Ali\": 20,\n",
    "    \"Sana\": 22,\n",
    "    \"Ahmed\": 19,\n",
    "    \"Fatima\": 21,\n",
    "    \"Usman\": 23\n",
    "}\n",
    "print(\"Sana\", \"Years\")"
   ]
  },
  {
   "cell_type": "code",
   "execution_count": null,
   "id": "900ebeb1",
   "metadata": {},
   "outputs": [],
   "source": []
  }
 ],
 "metadata": {
  "kernelspec": {
   "display_name": "base",
   "language": "python",
   "name": "python3"
  },
  "language_info": {
   "codemirror_mode": {
    "name": "ipython",
    "version": 3
   },
   "file_extension": ".py",
   "mimetype": "text/x-python",
   "name": "python",
   "nbconvert_exporter": "python",
   "pygments_lexer": "ipython3",
   "version": "3.13.5"
  }
 },
 "nbformat": 4,
 "nbformat_minor": 5
}
